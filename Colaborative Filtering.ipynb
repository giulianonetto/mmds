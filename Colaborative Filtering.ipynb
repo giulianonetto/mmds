{
 "cells": [
  {
   "cell_type": "code",
   "execution_count": 1,
   "metadata": {},
   "outputs": [],
   "source": [
    "import numpy as np"
   ]
  },
  {
   "cell_type": "code",
   "execution_count": 2,
   "metadata": {},
   "outputs": [
    {
     "name": "stdout",
     "output_type": "stream",
     "text": [
      " Y:\n",
      " [[ 5. nan  7.]\n",
      " [nan  2. nan]\n",
      " [ 4. nan nan]\n",
      " [nan  3.  6.]],\n",
      "\n",
      " u:\n",
      " [[6]\n",
      " [0]\n",
      " [3]\n",
      " [6]],\n",
      "\n",
      " v:\n",
      " [[4]\n",
      " [2]\n",
      " [1]]\n"
     ]
    }
   ],
   "source": [
    "Y = np.array([\n",
    "    [5, np.nan, 7],\n",
    "    [np.nan, 2, np.nan],\n",
    "    [4, np.nan, np.nan],\n",
    "    [np.nan, 3, 6]\n",
    "])\n",
    "lbda = 1 # lambda\n",
    "u, v = np.array([[6], [0], [3], [6]]), np.array([[4],[2],[1]])  # weird but furces u and v to be column vectors\n",
    "\n",
    "print(f' Y:\\n {Y},\\n\\n u:\\n {u},\\n\\n v:\\n {v}')"
   ]
  },
  {
   "cell_type": "code",
   "execution_count": 3,
   "metadata": {},
   "outputs": [
    {
     "data": {
      "text/plain": [
       "array([[24, 12,  6],\n",
       "       [ 0,  0,  0],\n",
       "       [12,  6,  3],\n",
       "       [24, 12,  6]])"
      ]
     },
     "execution_count": 3,
     "metadata": {},
     "output_type": "execute_result"
    }
   ],
   "source": [
    "u.dot(v.transpose()) # question 1a"
   ]
  },
  {
   "cell_type": "code",
   "execution_count": 4,
   "metadata": {},
   "outputs": [
    {
     "name": "stdout",
     "output_type": "stream",
     "text": [
      "[[1.5       ]\n",
      " [0.8       ]\n",
      " [0.94117647]\n",
      " [2.        ]]\n"
     ]
    }
   ],
   "source": [
    "def compute_u(Y, v, _lambda):\n",
    "    # 1 if (a, i) given and 0 otherwise:\n",
    "    given_values_positions = np.where(np.isnan(Y), 0, 1) \n",
    "    # # sum from i=1 to m of (v_i)^2, for each a considering only (a, i) in D\n",
    "    v_sq_sum_given = given_values_positions.dot(v*v)  \n",
    "    # # y*v/(lambda + v^2) for (a, i) in D, an n-dim vector\n",
    "    fitted_u = np.nan_to_num(Y).dot(v) / ( _lambda + v_sq_sum_given ) \n",
    "    return fitted_u\n",
    "\n",
    "U1 = compute_u(Y=Y, v=v, _lambda=lbda)\n",
    "print(U1)"
   ]
  },
  {
   "cell_type": "code",
   "execution_count": 5,
   "metadata": {},
   "outputs": [
    {
     "name": "stdout",
     "output_type": "stream",
     "text": [
      "[[0.91304348]\n",
      " [0.48648649]\n",
      " [1.06849315]]\n"
     ]
    }
   ],
   "source": [
    "# I did not test this one, but used similar logic\n",
    "\n",
    "def compute_v(Y, u, _lambda):\n",
    "    given_values_positions = np.where(np.isnan(Y), 0, 1).transpose() # 1 if (a, i) given and 0 otherwise\n",
    "    Y = np.nan_to_num(Y) # fill nan with 0's\n",
    "    u_sq_sum_given = given_values_positions.dot(u*u) # sum from i=1 to m of (v_i)^2, for each a considering only (a, i) in D \n",
    "    fitted_v = Y.transpose().dot(u) / ( _lambda + u_sq_sum_given ) # y*u/(lambda + v^2) for (a, i) in D, an m-dim vector\n",
    "    return fitted_v\n",
    "V1 = compute_v(Y=Y, u=u, _lambda=lbda)\n",
    "print(V1)"
   ]
  }
 ],
 "metadata": {
  "kernelspec": {
   "display_name": "Python 3",
   "language": "python",
   "name": "python3"
  },
  "language_info": {
   "codemirror_mode": {
    "name": "ipython",
    "version": 3
   },
   "file_extension": ".py",
   "mimetype": "text/x-python",
   "name": "python",
   "nbconvert_exporter": "python",
   "pygments_lexer": "ipython3",
   "version": "3.6.9"
  }
 },
 "nbformat": 4,
 "nbformat_minor": 4
}
